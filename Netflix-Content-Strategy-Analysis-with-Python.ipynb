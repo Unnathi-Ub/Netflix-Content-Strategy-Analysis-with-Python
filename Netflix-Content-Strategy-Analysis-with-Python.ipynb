{
 "cells": [
  {
   "cell_type": "code",
   "execution_count": 1,
   "id": "8b362a71-6907-43bb-b98d-2c8d3e8026cf",
   "metadata": {},
   "outputs": [
    {
     "name": "stdout",
     "output_type": "stream",
     "text": [
      "10\n"
     ]
    }
   ],
   "source": [
    "print(5+5)"
   ]
  },
  {
   "cell_type": "code",
   "execution_count": 3,
   "id": "bbab39c6-d5a6-4583-ae77-7defeca7d99c",
   "metadata": {},
   "outputs": [
    {
     "name": "stdout",
     "output_type": "stream",
     "text": [
      "18\n"
     ]
    }
   ],
   "source": [
    "print(9*2) #this is for testing purpouse"
   ]
  },
  {
   "cell_type": "code",
   "execution_count": 5,
   "id": "17562585-fb0b-4f33-be96-4968d2b3ec4a",
   "metadata": {},
   "outputs": [
    {
     "name": "stderr",
     "output_type": "stream",
     "text": [
      "warning: in the working copy of 'Netflix-Content-Strategy-Analysis-with-Python.ipynb', LF will be replaced by CRLF the next time Git touches it\n"
     ]
    },
    {
     "name": "stdout",
     "output_type": "stream",
     "text": [
      "[main 889fd0b] Added Jupyter Notebook file\n",
      " 1 file changed, 51 insertions(+), 4 deletions(-)\n"
     ]
    },
    {
     "name": "stderr",
     "output_type": "stream",
     "text": [
      "To https://github.com/Unnathi-Ub/Netflix-Content-Strategy-Analysis-with-Python.git\n",
      "   7965b99..889fd0b  main -> main\n"
     ]
    }
   ],
   "source": [
    "!git add Netflix-Content-Strategy-Analysis-with-Python.ipynb\n",
    "!git commit -m \"Added Jupyter Notebook file\"\n",
    "!git push origin main\n"
   ]
  },
  {
   "cell_type": "code",
   "execution_count": null,
   "id": "e20ed484-bbe0-4976-9924-f9bcc5eb3077",
   "metadata": {},
   "outputs": [],
   "source": []
  }
 ],
 "metadata": {
  "kernelspec": {
   "display_name": "Python 3 (ipykernel)",
   "language": "python",
   "name": "python3"
  },
  "language_info": {
   "codemirror_mode": {
    "name": "ipython",
    "version": 3
   },
   "file_extension": ".py",
   "mimetype": "text/x-python",
   "name": "python",
   "nbconvert_exporter": "python",
   "pygments_lexer": "ipython3",
   "version": "3.11.7"
  }
 },
 "nbformat": 4,
 "nbformat_minor": 5
}
