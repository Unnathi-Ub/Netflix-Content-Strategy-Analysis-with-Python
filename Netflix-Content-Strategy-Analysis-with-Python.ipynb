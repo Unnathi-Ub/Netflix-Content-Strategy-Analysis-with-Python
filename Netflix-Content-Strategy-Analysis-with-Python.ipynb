{
 "cells": [
  {
   "cell_type": "code",
   "execution_count": 7,
   "id": "8b362a71-6907-43bb-b98d-2c8d3e8026cf",
   "metadata": {},
   "outputs": [
    {
     "data": {
      "text/html": [
       "  \n",
       "<style>\n",
       "/* Custom styles for all markdown headers except the project name */\n",
       ".custom-header {\n",
       "    margin: 0.5em 0 0.2em 0;  /* Reduce top & bottom space */\n",
       "    font-weight: 600;  \n",
       "    font-family: 'Titillium Web', sans-serif;  \n",
       "    position: relative;  \n",
       "    font-size: 28px;  /* Reduce font size */\n",
       "    line-height: 32px;  /* Adjust line spacing */\n",
       "    padding: 8px 10px 8px 1.5%;  /* Reduce inner padding */\n",
       "    color: #13003A;  \n",
       "   \n",
       "    /* Reduce box-shadow effect */\n",
       "    box-shadow: \n",
       "        inset 0 0 0 1px rgba(53,86,129, 1),  \n",
       "        inset 0 0 3px rgba(53,86,129, 1),\n",
       "        inset -150px 0 20px white;  \n",
       "\n",
       "    border-radius: 0 5px 0 8px;  /* Slightly rounded corners */\n",
       "    background: #fff;  \n",
       "}\n",
       "</style>\n"
      ],
      "text/plain": [
       "<IPython.core.display.HTML object>"
      ]
     },
     "execution_count": 7,
     "metadata": {},
     "output_type": "execute_result"
    }
   ],
   "source": [
    "import pandas as pd\n",
    "import numpy as np\n",
    "import matplotlib.pyplot as plt\n",
    "import seaborn as sns\n",
    "# This imports the HTML class from the IPython.display module.\n",
    "# HTML allows us to insert raw HTML and CSS directly into a Jupyter Notebook.\n",
    "from IPython.display import HTML\n",
    "\n",
    "HTML(\"\"\"  \n",
    "<style>\n",
    "/* Custom styles for all markdown headers except the project name */\n",
    ".custom-header {\n",
    "    margin: 0.5em 0 0.2em 0;  /* Reduce top & bottom space */\n",
    "    font-weight: 600;  \n",
    "    font-family: 'Titillium Web', sans-serif;  \n",
    "    position: relative;  \n",
    "    font-size: 28px;  /* Reduce font size */\n",
    "    line-height: 32px;  /* Adjust line spacing */\n",
    "    padding: 8px 10px 8px 1.5%;  /* Reduce inner padding */\n",
    "    color: #13003A;  \n",
    "   \n",
    "    /* Reduce box-shadow effect */\n",
    "    box-shadow: \n",
    "        inset 0 0 0 1px rgba(53,86,129, 1),  \n",
    "        inset 0 0 3px rgba(53,86,129, 1),\n",
    "        inset -150px 0 20px white;  \n",
    "\n",
    "    border-radius: 0 5px 0 8px;  /* Slightly rounded corners */\n",
    "    background: #fff;  \n",
    "}\n",
    "</style>\n",
    "\"\"\")\n"
   ]
  },
  {
   "cell_type": "code",
   "execution_count": 8,
   "id": "bbab39c6-d5a6-4583-ae77-7defeca7d99c",
   "metadata": {},
   "outputs": [
    {
     "name": "stdout",
     "output_type": "stream",
     "text": [
      "18\n"
     ]
    }
   ],
   "source": [
    "print(9*2) #this is for testing purpouse"
   ]
  },
  {
   "cell_type": "code",
   "execution_count": 10,
   "id": "17562585-fb0b-4f33-be96-4968d2b3ec4a",
   "metadata": {},
   "outputs": [
    {
     "name": "stdout",
     "output_type": "stream",
     "text": [
      "On branch main\n",
      "Your branch is up to date with 'origin/main'.\n",
      "\n",
      "Changes not staged for commit:\n",
      "  (use \"git add/rm <file>...\" to update what will be committed)\n",
      "  (use \"git restore <file>...\" to discard changes in working directory)\n",
      "\tdeleted:    .ipynb_checkpoints/Netflix Content Strategy Analysis with Python-checkpoint.ipynb\n",
      "\tdeleted:    Netflix Content Strategy Analysis with Python.ipynb\n",
      "\n",
      "Untracked files:\n",
      "  (use \"git add <file>...\" to include in what will be committed)\n",
      "\t.ipynb_checkpoints/Netflix-Content-Strategy-Analysis-with-Python-checkpoint.ipynb\n",
      "\n",
      "no changes added to commit (use \"git add\" and/or \"git commit -a\")\n"
     ]
    },
    {
     "name": "stderr",
     "output_type": "stream",
     "text": [
      "Everything up-to-date\n"
     ]
    }
   ],
   "source": [
    "!git add Netflix-Content-Strategy-Analysis-with-Python.ipynb\n",
    "!git commit -m \"Add the front end develo\"\n",
    "!git push origin main\n"
   ]
  },
  {
   "cell_type": "code",
   "execution_count": null,
   "id": "e20ed484-bbe0-4976-9924-f9bcc5eb3077",
   "metadata": {},
   "outputs": [],
   "source": []
  }
 ],
 "metadata": {
  "kernelspec": {
   "display_name": "Python 3 (ipykernel)",
   "language": "python",
   "name": "python3"
  },
  "language_info": {
   "codemirror_mode": {
    "name": "ipython",
    "version": 3
   },
   "file_extension": ".py",
   "mimetype": "text/x-python",
   "name": "python",
   "nbconvert_exporter": "python",
   "pygments_lexer": "ipython3",
   "version": "3.11.7"
  }
 },
 "nbformat": 4,
 "nbformat_minor": 5
}
